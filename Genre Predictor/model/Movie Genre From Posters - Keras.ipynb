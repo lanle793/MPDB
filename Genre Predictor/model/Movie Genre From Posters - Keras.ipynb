{
 "cells": [
  {
   "cell_type": "code",
   "execution_count": 1,
   "metadata": {},
   "outputs": [],
   "source": [
    "import pandas as pd\n",
    "import numpy as np\n",
    "import random\n",
    "import pickle\n",
    "from os import path\n",
    "\n",
    "from keras.models import Model\n",
    "from keras.layers import Dense, GlobalAveragePooling2D\n",
    "from keras.applications import ResNet50\n",
    "from keras.preprocessing.image import ImageDataGenerator\n",
    "from keras.optimizers import Adam\n",
    "from keras.callbacks import EarlyStopping"
   ]
  },
  {
   "cell_type": "code",
   "execution_count": 2,
   "metadata": {},
   "outputs": [],
   "source": [
    "# preprocess dataframe\n",
    "poster_dir = \"../data/posters/\"\n",
    "poster_df = pd.read_csv(\"../data/MovieGenre.csv\", encoding = \"ISO-8859-1\")\n",
    "poster_df = poster_df.drop_duplicates(subset=['imdbId'], keep=\"last\")\n",
    "poster_df[\"Genre\"] = poster_df[\"Genre\"].str.split(\"|\")\n",
    "poster_df[\"filename\"] = poster_df[\"imdbId\"].astype(str) + \".jpg\"\n",
    "poster_df = poster_df[poster_df[\"filename\"].apply(lambda t: path.exists(poster_dir + t))]\n",
    "poster_df = poster_df.dropna()\n",
    "poster_df = poster_df[poster_df[\"Genre\"].apply(lambda t: isinstance(t, list))]\n",
    "#poster_df = poster_df.iloc[random.sample(range(0, 30000), 10000)]"
   ]
  },
  {
   "cell_type": "code",
   "execution_count": 3,
   "metadata": {},
   "outputs": [
    {
     "name": "stdout",
     "output_type": "stream",
     "text": [
      "Found 27321 validated image filenames belonging to 28 classes.\n",
      "Found 9107 validated image filenames belonging to 28 classes.\n",
      "{'Action': 0, 'Adult': 1, 'Adventure': 2, 'Animation': 3, 'Biography': 4, 'Comedy': 5, 'Crime': 6, 'Documentary': 7, 'Drama': 8, 'Family': 9, 'Fantasy': 10, 'Film-Noir': 11, 'Game-Show': 12, 'History': 13, 'Horror': 14, 'Music': 15, 'Musical': 16, 'Mystery': 17, 'News': 18, 'Reality-TV': 19, 'Romance': 20, 'Sci-Fi': 21, 'Short': 22, 'Sport': 23, 'Talk-Show': 24, 'Thriller': 25, 'War': 26, 'Western': 27}\n"
     ]
    }
   ],
   "source": [
    "# create image data generator\n",
    "datagen = ImageDataGenerator(rescale=1./255., validation_split=0.25)\n",
    "\n",
    "train_generator = datagen.flow_from_dataframe(dataframe=poster_df,\n",
    "                                              directory=poster_dir,\n",
    "                                              x_col=\"filename\",\n",
    "                                              y_col=\"Genre\",\n",
    "                                              subset=\"training\",\n",
    "                                              batch_size=32,\n",
    "                                              shuffle=True,\n",
    "                                              seed=42,\n",
    "                                              class_mode=\"categorical\",\n",
    "                                              target_size=(64, 64))\n",
    "\n",
    "\n",
    "valid_generator=datagen.flow_from_dataframe(dataframe=poster_df,\n",
    "                                            directory=poster_dir,\n",
    "                                            x_col=\"filename\",\n",
    "                                            y_col=\"Genre\",\n",
    "                                            subset=\"validation\",\n",
    "                                            batch_size=32,\n",
    "                                            shuffle=True,\n",
    "                                            seed=42,\n",
    "                                            class_mode=\"categorical\",\n",
    "                                            target_size=(64, 64))\n",
    "\n",
    "num_classes = len(train_generator.class_indices)\n",
    "print(train_generator.class_indices)"
   ]
  },
  {
   "cell_type": "code",
   "execution_count": 4,
   "metadata": {},
   "outputs": [
    {
     "name": "stdout",
     "output_type": "stream",
     "text": [
      "Epoch 1/25\n",
      "853/853 [==============================] - 741s 789ms/step - loss: 0.2900 - accuracy: 0.2439 - val_loss: 0.2438 - val_accuracy: 0.2378\n",
      "Epoch 2/25\n",
      "853/853 [==============================] - 703s 824ms/step - loss: 0.2104 - accuracy: 0.2636 - val_loss: 0.4457 - val_accuracy: 0.2641\n",
      "Epoch 3/25\n",
      "853/853 [==============================] - 911s 1s/step - loss: 0.2080 - accuracy: 0.2752 - val_loss: 0.2282 - val_accuracy: 0.2675\n",
      "Epoch 4/25\n",
      "853/853 [==============================] - 983s 1s/step - loss: 0.2056 - accuracy: 0.2912 - val_loss: 0.2395 - val_accuracy: 0.2644\n",
      "Epoch 5/25\n",
      "853/853 [==============================] - 827s 970ms/step - loss: 0.2047 - accuracy: 0.2993 - val_loss: 0.2223 - val_accuracy: 0.3183\n",
      "Epoch 6/25\n",
      "853/853 [==============================] - 719s 844ms/step - loss: 0.2033 - accuracy: 0.3078 - val_loss: 0.3194 - val_accuracy: 0.3422\n",
      "Epoch 7/25\n",
      "853/853 [==============================] - 655s 769ms/step - loss: 0.2032 - accuracy: 0.3066 - val_loss: 0.2244 - val_accuracy: 0.3354\n",
      "Epoch 8/25\n",
      "853/853 [==============================] - 554s 643ms/step - loss: 0.2024 - accuracy: 0.3079 - val_loss: 2.3187 - val_accuracy: 0.3391\n"
     ]
    }
   ],
   "source": [
    "# use ResNet50 model for classification\n",
    "base_model = ResNet50(include_top=False, weights=None, input_shape=(64, 64, 3))\n",
    "\n",
    "x = base_model.output\n",
    "x = GlobalAveragePooling2D()(x)\n",
    "x = Dense(128, activation='relu')(x)\n",
    "predictions = Dense(num_classes, activation='softmax')(x)\n",
    "\n",
    "model = Model(base_model.input, predictions)\n",
    "\n",
    "adam = Adam(learning_rate=1e-2, beta_1=0.9, beta_2=0.999, epsilon=None, decay=0.0, amsgrad=False)\n",
    "callback = EarlyStopping(patience=3)\n",
    "model.compile(optimizer=adam, loss='binary_crossentropy',\n",
    "              metrics=['accuracy'])\n",
    "\n",
    "STEP_SIZE_TRAIN=train_generator.n//train_generator.batch_size\n",
    "STEP_SIZE_VALID=valid_generator.n//valid_generator.batch_size\n",
    "\n",
    "history = model.fit(x=train_generator,\n",
    "                    steps_per_epoch=STEP_SIZE_TRAIN,\n",
    "                    epochs=25,\n",
    "                    validation_data=valid_generator,\n",
    "                    validation_steps=STEP_SIZE_VALID,\n",
    "                    callbacks=[callback])"
   ]
  },
  {
   "cell_type": "code",
   "execution_count": 5,
   "metadata": {},
   "outputs": [
    {
     "ename": "TypeError",
     "evalue": "cannot pickle 'weakref' object",
     "output_type": "error",
     "traceback": [
      "\u001b[1;31m---------------------------------------------------------------------------\u001b[0m",
      "\u001b[1;31mTypeError\u001b[0m                                 Traceback (most recent call last)",
      "\u001b[1;32m<ipython-input-5-a0eaccc8b767>\u001b[0m in \u001b[0;36m<module>\u001b[1;34m\u001b[0m\n\u001b[0;32m      1\u001b[0m \u001b[1;31m# save the model for deployment\u001b[0m\u001b[1;33m\u001b[0m\u001b[1;33m\u001b[0m\u001b[1;33m\u001b[0m\u001b[0m\n\u001b[1;32m----> 2\u001b[1;33m \u001b[0mpickle\u001b[0m\u001b[1;33m.\u001b[0m\u001b[0mdump\u001b[0m\u001b[1;33m(\u001b[0m\u001b[0mmodel\u001b[0m\u001b[1;33m,\u001b[0m \u001b[0mopen\u001b[0m\u001b[1;33m(\u001b[0m\u001b[1;34m'poster_predictor_keras.pkl'\u001b[0m\u001b[1;33m,\u001b[0m \u001b[1;34m'wb+'\u001b[0m\u001b[1;33m)\u001b[0m\u001b[1;33m)\u001b[0m\u001b[1;33m\u001b[0m\u001b[1;33m\u001b[0m\u001b[0m\n\u001b[0m",
      "\u001b[1;31mTypeError\u001b[0m: cannot pickle 'weakref' object"
     ]
    }
   ],
   "source": [
    "# save the model for deployment\n",
    "pickle.dump(model, open('poster_predictor_keras.pkl', 'wb+'))"
   ]
  },
  {
   "cell_type": "markdown",
   "metadata": {},
   "source": [
    "Reference:\n",
    "1. https://godatadriven.com/blog/keras-multi-label-classification-with-imagedatagenerator/"
   ]
  }
 ],
 "metadata": {
  "kernelspec": {
   "display_name": "Python 3",
   "language": "python",
   "name": "python3"
  },
  "language_info": {
   "codemirror_mode": {
    "name": "ipython",
    "version": 3
   },
   "file_extension": ".py",
   "mimetype": "text/x-python",
   "name": "python",
   "nbconvert_exporter": "python",
   "pygments_lexer": "ipython3",
   "version": "3.8.8"
  }
 },
 "nbformat": 4,
 "nbformat_minor": 4
}
