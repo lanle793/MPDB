{
 "cells": [
  {
   "cell_type": "code",
   "execution_count": null,
   "metadata": {},
   "outputs": [],
   "source": [
    "import pandas as pd\n",
    "import numpy as np\n",
    "import pickle\n",
    "\n",
    "import efficientnet.keras as efn\n",
    "from keras.preprocessing.image import ImageDataGenerator\n",
    "from keras.layers import Flatten, Dense, Dropout\n",
    "from keras.models import Model\n",
    "from keras.optimizers import Adam"
   ]
  },
  {
   "cell_type": "code",
   "execution_count": null,
   "metadata": {},
   "outputs": [],
   "source": [
    "# preprocess dataframe\n",
    "poster_dir = \"../data/posters/\"\n",
    "poster_df = pd.read_csv(\"../data/MovieGenre.csv\", encoding = \"ISO-8859-1\")\n",
    "poster_df = poster_df.drop_duplicates(subset=['imdbId'], keep=\"last\")\n",
    "poster_df[\"Genre\"] = poster_df[\"Genre\"].str.split(\"|\")\n",
    "poster_df[\"filename\"] = poster_df[\"imdbId\"].astype(str) + \".jpg\"\n",
    "poster_df = poster_df[poster_df[\"Genre\"].apply(lambda t: isinstance(t, list))]"
   ]
  },
  {
   "cell_type": "code",
   "execution_count": null,
   "metadata": {},
   "outputs": [],
   "source": [
    "# create image data generator\n",
    "datagen = ImageDataGenerator(rescale=1./255., rotation_range=40, width_shift_range=0.2, \n",
    "                                   height_shift_range=0.2, horizontal_flip=True, validation_split=0.25)\n",
    "\n",
    "train_generator = datagen.flow_from_dataframe(dataframe=poster_df,\n",
    "                                            directory=poster_dir,\n",
    "                                            x_col=\"filename\",\n",
    "                                            y_col=\"Genre\",\n",
    "                                            subset=\"training\",\n",
    "                                            batch_size=64,\n",
    "                                            shuffle=True,\n",
    "                                            class_mode=\"categorical\",\n",
    "                                            target_size=(182, 268))\n",
    "\n",
    "\n",
    "valid_generator=datagen.flow_from_dataframe(dataframe=poster_df,\n",
    "                                            directory=poster_dir,\n",
    "                                            x_col=\"filename\",\n",
    "                                            y_col=\"Genre\",\n",
    "                                            subset=\"validation\",\n",
    "                                            batch_size=64,\n",
    "                                            shuffle=True,\n",
    "                                            class_mode=\"categorical\",\n",
    "                                            target_size=(182, 268))"
   ]
  },
  {
   "cell_type": "code",
   "execution_count": null,
   "metadata": {},
   "outputs": [],
   "source": [
    "# fit model using pre-trained EfficientNet\n",
    "model = efn.EfficientNetB0(input_shape = (182, 268, 3), include_top = False, weights = 'imagenet')\n",
    "model.trainable = False\n",
    "    \n",
    "x = model.output\n",
    "x = Flatten()(x)\n",
    "x = Dense(1024, activation=\"relu\")(x)\n",
    "x = Dropout(0.5)(x)\n",
    "predictions = Dense(28, activation=\"softmax\")(x)\n",
    "model_final = Model(inputs = model.input, outputs = predictions)\n",
    "\n",
    "adam = Adam(learning_rate=1e-3)\n",
    "model_final.compile(optimizer=adam, loss='categorical_crossentropy',\n",
    "              metrics=['accuracy'])\n",
    "\n",
    "STEP_SIZE_TRAIN=train_generator.n//train_generator.batch_size\n",
    "STEP_SIZE_VALID=valid_generator.n//valid_generator.batch_size\n",
    "\n",
    "model_final.fit_generator(generator=train_generator,\n",
    "                          steps_per_epoch=STEP_SIZE_TRAIN,\n",
    "                          epochs=25,\n",
    "                          validation_data=valid_generator,\n",
    "                          validation_steps=STEP_SIZE_VALID)"
   ]
  },
  {
   "cell_type": "code",
   "execution_count": null,
   "metadata": {},
   "outputs": [],
   "source": [
    "for layer in model_final.layers[-20:]:\n",
    "    if not isinstance(layer, layers.BatchNormalization):\n",
    "        layer.trainable = True\n",
    "\n",
    "adam = Adam(learning_rate=1e-4)\n",
    "model_final.compile(optimizer=adam, loss=\"categorical_crossentropy\", \n",
    "                    metrics=[\"accuracy\"])\n",
    "\n",
    "model_final.fit_generator(generator=train_generator,\n",
    "                          steps_per_epoch=STEP_SIZE_TRAIN,\n",
    "                          epochs=10,\n",
    "                          validation_data=valid_generator,\n",
    "                          validation_steps=STEP_SIZE_VALID)"
   ]
  },
  {
   "cell_type": "code",
   "execution_count": null,
   "metadata": {},
   "outputs": [],
   "source": [
    "# save the model for deployment\n",
    "pickle.dump(model_final, open('poster_predictor.pkl', 'wb+'))"
   ]
  },
  {
   "cell_type": "markdown",
   "metadata": {},
   "source": [
    "Reference:\n",
    "1. https://www.analyticsvidhya.com/blog/2020/08/top-4-pre-trained-models-for-image-classification-with-python-code/\n",
    "2. https://godatadriven.com/blog/keras-multi-label-classification-with-imagedatagenerator/\n",
    "3. https://keras.io/examples/vision/image_classification_efficientnet_fine_tuning/"
   ]
  }
 ],
 "metadata": {
  "kernelspec": {
   "display_name": "Python 3",
   "language": "python",
   "name": "python3"
  },
  "language_info": {
   "codemirror_mode": {
    "name": "ipython",
    "version": 3
   },
   "file_extension": ".py",
   "mimetype": "text/x-python",
   "name": "python",
   "nbconvert_exporter": "python",
   "pygments_lexer": "ipython3",
   "version": "3.6.10"
  }
 },
 "nbformat": 4,
 "nbformat_minor": 4
}
